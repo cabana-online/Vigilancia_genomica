{
 "cells": [
  {
   "cell_type": "markdown",
   "metadata": {},
   "source": [
    "# Módulo 15: Flujos de Trabajo GPS y GBS\n",
    "\n",
    "## Descripción general\n",
    "\n",
    "\n",
    "*GPS Unified Pipeline* es un Nextflow Pipeline para el procesamiento de lecturas brutas de secuenciación de *Streptococcus pneumoniae* (archivos FASTQ) por el Proyecto GPS ([Global Pneumococcal Sequencing Project](https://www.pneumogen.net/gps/)) está disponible a través de este enlace: https://github.com/HarryHung/gps-unified-pipeline.\n",
    "\n",
    "El *GBS Typer Pipeline* es un flujo de trabajo de Nextflow para caracterizar serotipos, MLST, AMR y proteínas de superficie a partir de secuencias de Streptococcus agalactiae (archivos FASTQ) por el [Proyecto JUNO](https://www.gbsgen.net/) y está disponible [aquí](https://github.com/sanger-bentley-group/GBS-Typer-sanger-nf). La línea de producción toma una entrada de lecturas de Streptoccocus agalactiae recortadas y controladas por pares, las procesa en paralelo a través de estos \"flujos de trabajo\" y combina los resultados para crear un informe principal (y archivos FASTA de alelos de genes MLST y AMR, si procede).\n",
    "\n",
    "![Intro](./images/gbs.png)\n",
    "\n",
    "> En este módulo trabajaremos con el GBS Typer Pipeline."
   ]
  },
  {
   "cell_type": "markdown",
   "metadata": {},
   "source": [
    "## Detalles de cada flujo de trabajo:\n",
    "\n",
    "1. MLST con SRST2\n",
    "\n",
    "Descarga la base de datos MLST para *Streptococcus agalactiae* y utiliza SRST2 para hacer MLST.\n",
    "\n",
    "2. Serotipado con SRST2\n",
    "\n",
    "Descarga la [base de datos](https://github.com/swainechen/GBS-SBG) de serotipos GBS y utiliza SRST2 para identificar serotipos (de forma similar a MLST)\n",
    "\n",
    "3. Tipificación de proteínas de superficie con SRST2\n",
    "\n",
    "Utiliza una [base de datos](https://github.com/sanger-bentley-group/GBS-Typer-sanger-nf/tree/main/db/0.2.1/GBS_Surface_Gene-DB) de genes de superficie hecha a medida y utiliza SRST2 para identificar proteínas de superficie (de forma similar a MLST)\n",
    "\n",
    "4. Tipificación de resistencias con SRST2\n",
    "\n",
    "Utiliza una [base de datos](https://github.com/sanger-bentley-group/GBS-Typer-sanger-nf/tree/main/db/0.2.1/GBS_resTyper_Gene-DB) de genes de resistencia antimicrobiana GBS hecha a medida y ResFinder y utiliza SRST2 para identificar genes AMR\n",
    "\n",
    "5. Detección de variantes con freebayes\n",
    "\n",
    "Utiliza [freebayes](https://github.com/freebayes/freebayes) para generar alelos de consenso MLST/resistencia antimicrobiana (en formato FASTA) basados en alineaciones imperfectas de SRST2 (No forma parte del informe principal)"
   ]
  },
  {
   "cell_type": "markdown",
   "metadata": {},
   "source": [
    "## Ejecución del proceso\n",
    "\n",
    ">La ejecución del proceso requiere una conexión a Internet.\n",
    "\n",
    ">Actualmente sólo admite lecturas pareadas (paired-end).\n",
    "\n",
    ">Este pipeline solo puede ser ejecutado en un ordenador ya que requiere Docker y Nextflow"
   ]
  },
  {
   "cell_type": "markdown",
   "metadata": {},
   "source": [
    "Los pasos que se explicarán en este tutorial están diseñados para ejecutarse en un ordenador, ya que Google Colab no puede configurarse para este propósito. **Por favor, NO EJECUTE** los siguientes pasos. Estos son solo una guía para que los realice más adelante en su ordenador si tiene un sistema operativo Linux. \n",
    "\n",
    "En la carpeta **Módulo 15** encontrará los resultados obtenidos a partir de una ejecución previa realizada en un ordenador. Exploraremos cómo son los archivos de salida."
   ]
  },
  {
   "cell_type": "markdown",
   "metadata": {},
   "source": [
    "### Instalación"
   ]
  },
  {
   "cell_type": "markdown",
   "metadata": {},
   "source": [
    "#### 1. Instalar Docker\n",
    "\n",
    "Dependiendo de su sistema operativo (Linux, WIndowns, Mac), instale Docker siguiendo las instrucciones detalladas que encontrará [aquí](https://docs.docker.com/desktop/?_gl=1*9l1hj6*_gcl_au*MTc0ODc1MTcxLjE3MjY3NzU0NjM.*_ga*ODEwNzA5MjcxLjE3MjAxOTQ5MDc.*_ga_XJWPQMJYHQ*MTczMjcyMTgzMS4xMC4xLjE3MzI3MjI4NDguNjAuMC4w). "
   ]
  },
  {
   "cell_type": "markdown",
   "metadata": {},
   "source": [
    "#### 2. Instalar Nextflow"
   ]
  },
  {
   "cell_type": "code",
   "execution_count": null,
   "metadata": {},
   "outputs": [],
   "source": [
    "# No ejecutar\n",
    "curl -s https://get.nextflow.io | bash"
   ]
  },
  {
   "cell_type": "code",
   "execution_count": null,
   "metadata": {},
   "outputs": [],
   "source": [
    "# No ejecutar\n",
    "# Change the permissions of the nextflow file and make it executable\n",
    "# Cambie los permisos de nextflow y hágalo ejecutable\n",
    "chmod +x nextflow"
   ]
  },
  {
   "cell_type": "code",
   "execution_count": null,
   "metadata": {},
   "outputs": [],
   "source": [
    "# No ejecutar\n",
    "# Mueva Nextflow a un directorio que esté en el PATH\n",
    "# Move Nextflow to a directory that is in the PATH\n",
    "mkdir -p $HOME/.local/bin/\n",
    "mv nextflow $HOME/.local/bin/"
   ]
  },
  {
   "cell_type": "code",
   "execution_count": null,
   "metadata": {},
   "outputs": [],
   "source": [
    "# No ejecutar\n",
    "# Confirm that Nextflow is installed\n",
    "# Confirmar que Nextflow está instalado\n",
    "nextflow info"
   ]
  },
  {
   "cell_type": "markdown",
   "metadata": {},
   "source": [
    "#### 3. Clone el respositorio de Pipeline"
   ]
  },
  {
   "cell_type": "code",
   "execution_count": null,
   "metadata": {},
   "outputs": [],
   "source": [
    "# No ejecutar\n",
    "git clone https://github.com/sanger-pathogens/GBS-Typer-sanger-nf.git"
   ]
  },
  {
   "cell_type": "markdown",
   "metadata": {},
   "source": [
    "### Uso\n",
    "\n",
    "Vaya al directorio GBS-Typer-sanger-nf:"
   ]
  },
  {
   "cell_type": "code",
   "execution_count": null,
   "metadata": {},
   "outputs": [],
   "source": [
    "# No ejecutar\n",
    "cd GBS-Typer-sanger-nf"
   ]
  },
  {
   "cell_type": "markdown",
   "metadata": {},
   "source": [
    "Ejecutar con la muestra ERR1795461 utilizada en el Módulo 6: Ensamblaje de genomas. Esto generará informes en un nuevo directorio llamado \"results\"."
   ]
  },
  {
   "cell_type": "code",
   "execution_count": null,
   "metadata": {},
   "outputs": [],
   "source": [
    "# No ejecutar\n",
    "nextflow run main.nf --reads '/Module_15/GBS-Typer-sanger-nf/ERR1795461_{1,2}.fastq.gz' --results_dir results"
   ]
  },
  {
   "cell_type": "markdown",
   "metadata": {},
   "source": [
    "### A partir de aquí puede ejecutar los comandos!"
   ]
  },
  {
   "cell_type": "markdown",
   "metadata": {},
   "source": [
    "### Descargar datos"
   ]
  },
  {
   "cell_type": "markdown",
   "metadata": {},
   "source": [
    "!wget https://zenodo.org/records/13883141/files/Module_13.tar.gz"
   ]
  },
  {
   "cell_type": "markdown",
   "metadata": {},
   "source": [
    "### Extraer el archivo .tar.gz"
   ]
  },
  {
   "cell_type": "code",
   "execution_count": null,
   "metadata": {},
   "outputs": [],
   "source": [
    "!tar xvf Module_15.tar.gz"
   ]
  },
  {
   "cell_type": "markdown",
   "metadata": {},
   "source": [
    "Diríjase a la carpeta **results**, donde podrá encontrar los archivos generados tras la ejecución del pipeline GBS-Typer."
   ]
  },
  {
   "cell_type": "code",
   "execution_count": null,
   "metadata": {},
   "outputs": [],
   "source": [
    "%cd Module_15/GBS-Typer-sanger-nf/results"
   ]
  },
  {
   "cell_type": "markdown",
   "metadata": {},
   "source": [
    "Liste los archivos que se encuentran en la carpeta. Observará que se encuentan los siguientes archivos:\n",
    "\n",
    "- drug_cat_alleles_variants.txt\n",
    "- ERR1795461_new_mlst_alleles.fasta\n",
    "- ERR1795461_new_mlst_pileup.txt\n",
    "- gbs_res_variants.txt\n",
    "- gbs_typer_report.txt\n",
    "- new_mlst_alleles.log\n",
    "- resfinder_accessions.txt\n",
    "- serotype_res_incidence.txt\n",
    "- surface_protein_incidence.txt\n",
    "- surface_protein_variants.txt"
   ]
  },
  {
   "cell_type": "markdown",
   "metadata": {},
   "source": [
    "Descargue el archivo  \"gbs_typer_report.txt\" en su ordenador y ábralo utilizando Excel u otra herramienta de hoja de cálculo:\n",
    "\n",
    "Este archivo incluye el serotipo, el tipo MLST, las frecuencias alélicas del MLST, la incidencia de genes de resistencia, los tipos de proteínas de superficie y las variantes de resistencia específicas de GBS. Puede encontrar la descripción de cada columna del informe [aquí](https://docs.google.com/spreadsheets/d/1R5FFvACC3a6KCKkTiluhTj492-4cCe74HcCoklqX-X0/edit?gid=0#gid=0), donde la columna de categoría es in_silico_analysis.\n",
    "\n",
    "[Aquí](https://github.com/sanger-bentley-group/GBS-Typer-sanger-nf?tab=readme-ov-file#outputs) encontrará cómo interpretar los demás archivos que fueron generados."
   ]
  },
  {
   "cell_type": "markdown",
   "metadata": {},
   "source": [
    "### Para más información\n",
    "\n",
    "- La ejecución del flujo de trabajo de tipado PBP y detección de alelos se describe [aquí](https://github.com/sanger-bentley-group/GBS-Typer-sanger-nf)\n",
    "\n",
    "- Opciones avanzadas para el [cambio de parámetros](https://github.com/sanger-bentley-group/GBS-Typer-sanger-nf)\n",
    "\n",
    "- Ejemplos de otros pipelines Nextflow alojados en [nf-core](https://nf-co.re/)\n",
    "\n",
    "- Recursos para construir sus propios pipelines Nextflow:\n",
    "    - Tutorial: https://training.seqera.io/ \n",
    "\n",
    "    - Referencia: https://www.nextflow.io/docs/latest/index.html\n",
    "\n"
   ]
  }
 ],
 "metadata": {
  "kernelspec": {
   "display_name": "Python 3",
   "language": "python",
   "name": "python3"
  },
  "language_info": {
   "name": "python",
   "version": "3.10.12"
  }
 },
 "nbformat": 4,
 "nbformat_minor": 2
}

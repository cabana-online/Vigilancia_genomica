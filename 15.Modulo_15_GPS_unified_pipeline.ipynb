{
 "cells": [
  {
   "cell_type": "markdown",
   "metadata": {},
   "source": [
    "# Módulo 15: Flujos de Trabajo GPS y GBS\n",
    "\n",
    "## Descripción general\n",
    "\n",
    "\n",
    "*GPS Unified Pipeline* es un Nextflow Pipeline para el procesamiento de lecturas brutas de secuenciación de *Streptococcus pneumoniae* (archivos FASTQ) por el Proyecto GPS ([Global Pneumococcal Sequencing Project](https://www.pneumogen.net/gps/)) está disponible a través de este enlace: https://github.com/HarryHung/gps-unified-pipeline.\n",
    "\n",
    "El *GBS Typer Pipeline* es un flujo de trabajo de Nextflow para caracterizar serotipos, MLST, AMR y proteínas de superficie a partir de secuencias de Streptococcus agalactiae (archivos FASTQ) por el [Proyecto JUNO](https://www.gbsgen.net/) y está disponible [aquí](https://github.com/sanger-bentley-group/GBS-Typer-sanger-nf). La línea de producción toma una entrada de lecturas de Streptoccocus agalactiae recortadas y controladas por pares, las procesa en paralelo a través de estos \"flujos de trabajo\" y combina los resultados para crear un informe principal (y archivos FASTA de alelos de genes MLST y AMR, si procede).\n",
    "\n",
    "![Intro](./images/gbs.png)\n",
    "\n",
    "> En este módulo trabajaremos con el GBS Typer Pipeline."
   ]
  },
  {
   "cell_type": "markdown",
   "metadata": {},
   "source": [
    "## Detalles de cada flujo de trabajo:\n",
    "\n",
    "1. MLST con SRST2\n",
    "\n",
    "Descarga la base de datos MLST para *Streptococcus agalactiae* y utiliza SRST2 para hacer MLST.\n",
    "\n",
    "2. Serotipado con SRST2\n",
    "\n",
    "Descarga la [base de datos](https://github.com/swainechen/GBS-SBG) de serotipos GBS y utiliza SRST2 para identificar serotipos (de forma similar a MLST)\n",
    "\n",
    "3. Tipificación de proteínas de superficie con SRST2\n",
    "\n",
    "Utiliza una [base de datos](https://github.com/sanger-bentley-group/GBS-Typer-sanger-nf/tree/main/db/0.2.1/GBS_Surface_Gene-DB) de genes de superficie hecha a medida y utiliza SRST2 para identificar proteínas de superficie (de forma similar a MLST)\n",
    "\n",
    "4. Tipificación de resistencias con SRST2\n",
    "\n",
    "Utiliza una [base de datos](https://github.com/sanger-bentley-group/GBS-Typer-sanger-nf/tree/main/db/0.2.1/GBS_resTyper_Gene-DB) de genes de resistencia antimicrobiana GBS hecha a medida y ResFinder y utiliza SRST2 para identificar genes AMR\n",
    "\n",
    "5. Detección de variantes con freebayes\n",
    "\n",
    "Utiliza [freebayes](https://github.com/freebayes/freebayes) para generar alelos de consenso MLST/resistencia antimicrobiana (en formato FASTA) basados en alineaciones imperfectas de SRST2 (No forma parte del informe principal)"
   ]
  },
  {
   "cell_type": "markdown",
   "metadata": {},
   "source": [
    "## Ejecución del proceso\n",
    "\n",
    ">La ejecución del proceso requiere una conexión a Internet.\n",
    "\n",
    ">Actualmente sólo admite lecturas pareadas (paired-end)."
   ]
  },
  {
   "cell_type": "markdown",
   "metadata": {},
   "source": [
    "### Instalación"
   ]
  },
  {
   "cell_type": "markdown",
   "metadata": {},
   "source": [
    "#### 1. Instalar condacolab"
   ]
  },
  {
   "cell_type": "code",
   "execution_count": null,
   "metadata": {},
   "outputs": [],
   "source": [
    "!pip install -q condacolab\n",
    "import condacolab\n",
    "condacolab.install()"
   ]
  },
  {
   "cell_type": "code",
   "execution_count": null,
   "metadata": {},
   "outputs": [],
   "source": [
    "!conda config --add channels bioconda"
   ]
  },
  {
   "cell_type": "markdown",
   "metadata": {},
   "source": [
    "#### 2. Instalar nextflow"
   ]
  },
  {
   "cell_type": "code",
   "execution_count": null,
   "metadata": {},
   "outputs": [],
   "source": [
    "!conda create -n nextflow nextflow\n",
    "!conda activate nextflow"
   ]
  },
  {
   "cell_type": "markdown",
   "metadata": {},
   "source": [
    "#### 3.  Descarga del pipeline en el directorio \"Data\""
   ]
  },
  {
   "cell_type": "code",
   "execution_count": null,
   "metadata": {},
   "outputs": [],
   "source": [
    "!git clone https://github.com/sanger-pathogens/GBS-Typer-sanger-nf.git"
   ]
  },
  {
   "cell_type": "markdown",
   "metadata": {},
   "source": [
    "### Uso\n",
    "\n",
    "Entra en el directorio GBS-Typer-sanger-nf:"
   ]
  },
  {
   "cell_type": "code",
   "execution_count": null,
   "metadata": {},
   "outputs": [],
   "source": [
    "%cd GBS-Typer-sanger-nf"
   ]
  },
  {
   "cell_type": "markdown",
   "metadata": {},
   "source": [
    "Ejecutar con dos muestras 20280_5#40 y 20280_5#47 de \"assignment_s.agalactiae\" en \"Section_tree\". Esto generará informes en un nuevo directorio llamado \"my_samples\"."
   ]
  },
  {
   "cell_type": "code",
   "execution_count": null,
   "metadata": {},
   "outputs": [],
   "source": [
    "!nextflow run main.nf --reads '../Section_three/assignment_s.agalactiae/20280_5#4*_{1,2}.fastq.gz' --results_dir my_samples"
   ]
  },
  {
   "cell_type": "markdown",
   "metadata": {},
   "source": [
    "Esto debería tardar unos 20 minutos, dependiendo de su sistema. Cuando se haya completado con éxito, usted debe ver:"
   ]
  },
  {
   "cell_type": "markdown",
   "metadata": {},
   "source": [
    "Abra \"gbs_typer_report.txt\" en el directorio my_samples (utilizando Excel u otra herramienta de hoja de cálculo):\n",
    "\n",
    "Cada columna puede explicarse a partir del diccionario aquí donde la columna \"category\" es \"in_silico_analysis\"."
   ]
  },
  {
   "cell_type": "markdown",
   "metadata": {},
   "source": [
    "### Para más información\n",
    "\n",
    "- La ejecución del flujo de trabajo de tipado PBP y detección de alelos se describe [aquí](https://github.com/sanger-bentley-group/GBS-Typer-sanger-nf)\n",
    "\n",
    "- Opciones avanzadas para el [cambio de parámetros](https://github.com/sanger-bentley-group/GBS-Typer-sanger-nf)\n",
    "\n",
    "- Ejemplos de otros pipelines Nextflow alojados en [nf-core](https://nf-co.re/)\n",
    "\n",
    "- Recursos para construir sus propios pipelines Nextflow:\n",
    "    - Tutorial: https://training.seqera.io/ \n",
    "\n",
    "    - Referencia: https://www.nextflow.io/docs/latest/index.html\n",
    "\n"
   ]
  },
  {
   "cell_type": "code",
   "execution_count": null,
   "metadata": {},
   "outputs": [],
   "source": []
  }
 ],
 "metadata": {
  "kernelspec": {
   "display_name": "Python 3",
   "language": "python",
   "name": "python3"
  },
  "language_info": {
   "name": "python",
   "version": "3.10.12"
  }
 },
 "nbformat": 4,
 "nbformat_minor": 2
}

{
 "cells": [
  {
   "cell_type": "markdown",
   "metadata": {},
   "source": [
    "# Módulo 10: Llamado de Variantes\n",
    "\n",
    "## Descripción general\n",
    "\n",
    "En esta sección, aprenderemos a mapear lecturas de secuencias a una secuencia de referencia y, a continuación, a identificar las variantes (tanto polimorfismos de un solo nucleótido (SNP) como pequeñas inserciones y deleciones (indels)) en los datos de la secuencia. A continuación, utilizaremos las variantes identificadas para generar un pseudogenoma que se crea sustituyendo las bases del genoma de referencia por las variantes identificadas en las posiciones correspondientes."
   ]
  },
  {
   "cell_type": "markdown",
   "metadata": {},
   "source": [
    "### Instalar condacolab"
   ]
  },
  {
   "cell_type": "code",
   "execution_count": null,
   "metadata": {},
   "outputs": [],
   "source": [
    "!pip install -q condacolab\n",
    "import condacolab\n",
    "condacolab.install()"
   ]
  },
  {
   "cell_type": "markdown",
   "metadata": {},
   "source": [
    "### Instalar programas"
   ]
  },
  {
   "cell_type": "code",
   "execution_count": null,
   "metadata": {},
   "outputs": [],
   "source": [
    "# Instalar bwa\n",
    "!conda install -c conda-forge -c bioconda -c defaults snippy"
   ]
  },
  {
   "cell_type": "code",
   "execution_count": null,
   "metadata": {},
   "outputs": [],
   "source": [
    "# Install samtools\n",
    "!conda config --add channels bioconda\n",
    "!conda config --add channels conda-forge\n",
    "!conda install -c bioconda samtools"
   ]
  },
  {
   "cell_type": "markdown",
   "metadata": {},
   "source": [
    "### Descargar datos"
   ]
  },
  {
   "cell_type": "code",
   "execution_count": null,
   "metadata": {},
   "outputs": [],
   "source": [
    "!wget"
   ]
  },
  {
   "cell_type": "markdown",
   "metadata": {},
   "source": [
    "## Parte 1: Alineamiento\n",
    "\n",
    "Utilizaremos la herramienta [Snippy](https://github.com/tseemann/snippy), que es un programa de procesos integrados que asigna las lecturas a un genoma de referencia y encuentra variantes entre el genoma de referencia y las lecturas de la secuencia. Está diseñado con la velocidad en mente, y produce un conjunto coherente de archivos de salida en una sola carpeta.\n",
    "\n",
    "Snippy sólo requiere tres entradas\n",
    "\n",
    "1. Genoma de referencia en formato FASTA\n",
    "2. Archivo(s) de lectura de secuencias en formato FASTQ\n",
    "3. Una carpeta para  los resultados\n",
    "\n",
    "El siguiente comando se utiliza para ejecutar Snippy:"
   ]
  },
  {
   "cell_type": "code",
   "execution_count": null,
   "metadata": {},
   "outputs": [],
   "source": [
    "# Ejecutar snippy\n",
    "!snippy --outdir GPSC46_folder --R1 17150_4#79_1.fastq.gz --R2 17150_4#79_2.fastq.gz --ref Reference_sequence_GPSC46.fa --cpus 2 --ram 2 --force --quiet"
   ]
  },
  {
   "cell_type": "markdown",
   "metadata": {},
   "source": [
    "La explicación de este comando es la siguiente:\n",
    "\n",
    "`snippy`: es la herramienta\n",
    "\n",
    "`--outdir`: especifica el directorio de salida que es GPSC46_folder\n",
    "\n",
    "`--R1`: especifica la primera lectura que es 17150_4#79_1.fastq.gz\n",
    "\n",
    "`--R2`: especifica la primera lectura que es 17150_4#79_2.fastq.gz\n",
    "\n",
    "`--ref`: especifica el genoma de referencia, que es Reference_sequence_GPSC46.fa\n",
    "\n",
    "`--cpus`: especifica el número máximo de núcleos de CPU a utilizar = 2\n",
    "\n",
    "`--ram`: especifica que la RAM se mantenga por debajo de 2 GB\n",
    "\n",
    "`--force`: fuerza la sobreescritura de la carpeta de salida existente\n",
    "\n",
    "`--quiet`: sin salida en pantalla\n"
   ]
  },
  {
   "cell_type": "markdown",
   "metadata": {},
   "source": [
    "Ahora debería haber una nueva carpeta llamada GPSC46_folder. Ahora vamos `cd` a esta carpeta y listamos `ls -alh` el contenido del directorio para comprobar que tenemos nuestros nuevos archivos, y también comprobar sus tamaños. Deberá ver lo siguiente:"
   ]
  },
  {
   "cell_type": "markdown",
   "metadata": {},
   "source": [
    "A continuación se describen los archivos de salida:\n",
    "\n",
    "`ref.fa`: Versión/copia FASTA de la referencia\n",
    "\n",
    "`ref.ra.fai`: Índice del archivo de referencia\n",
    "\n",
    "`snps.alineado.fa`: Una versión de la referencia pero con (-) en la posición con profundidad=0 y N para 0 < profundidad < --mincov (no tiene variantes)\n",
    "\n",
    "`snps.bam`: Los alineamientos en formato BAM. Incluye lecturas no mapeadas, multimapping. Excluye duplicados.\n",
    "\n",
    "`snps.bam.bai`: Índice del archivo .bam\n",
    "\n",
    "`snps.bed`: Las variantes en formato Browser Extensible Data (BED)\n",
    "\n",
    "`snps.consensus.fa`: Una versión del genoma de referencia que contiene todas las variantes de alta calidad\n",
    "\n",
    "`snps.consensus.subs.fa`: Una versión del genoma de referencia que contiene sólo SNPs de alta calidad (no INDELS)\n",
    "\n",
    "`snps.tab`: Un resumen simple separado por tabuladores de todas las variantes\n",
    "\n",
    "`snps.csv`: Una versión separada por comas del archivo .tab\n",
    "\n",
    "`snps.txt`: Lista de columnas separadas por tabulaciones de estadísticas de alineación/tamaño del núcleo\n",
    "\n",
    "`snps.filt.vcf`: Las llamadas de variantes filtradas de Freebayes\n",
    "\n",
    "`snps.raw.vcf`: Las llamadas de variantes sin filtrar de Freebayes\n",
    "\n",
    "`snps.vcf`: Archivo VCF multimuestra con etiquetas GT de genotipo para todos los alelos descubiertos\n",
    "\n",
    "`snps.vcf.gz`: Archivo .vcf comprimido\n",
    "\n",
    "`snps.vcf.gz.csi`: Índice para el .vcf.gz a través del índice de bcftools\n",
    "\n",
    "`snps.gff`: Las variantes en formato GFF3\n",
    "\n",
    "`snps.html`: Una versión HTML del archivo .tab\n",
    "\n",
    "`snps.log`: Un archivo de registro con los comandos ejecutados y sus salidas"
   ]
  },
  {
   "cell_type": "markdown",
   "metadata": {},
   "source": [
    "Snippy ha hecho varias cosas. Puede examinar el fichero de registro para ver exactamente qué ha hecho snippy. Para ello escriba:"
   ]
  },
  {
   "cell_type": "code",
   "execution_count": null,
   "metadata": {},
   "outputs": [],
   "source": [
    "!less snps.log"
   ]
  },
  {
   "cell_type": "markdown",
   "metadata": {},
   "source": [
    "El resultado es el que se muestra en la tabla siguiente:"
   ]
  },
  {
   "cell_type": "markdown",
   "metadata": {},
   "source": [
    "También puede utilizar `grep` para recuperar las líneas relevantes para cada comando del archivo de registro."
   ]
  },
  {
   "cell_type": "code",
   "execution_count": null,
   "metadata": {},
   "outputs": [],
   "source": [
    "!grep outdir snps.log"
   ]
  },
  {
   "cell_type": "markdown",
   "metadata": {},
   "source": [
    "Obtendrá este resultado:"
   ]
  },
  {
   "cell_type": "markdown",
   "metadata": {},
   "source": [
    "Para ver los pasos de procesamiento de bwa escriba el comando:"
   ]
  },
  {
   "cell_type": "code",
   "execution_count": null,
   "metadata": {},
   "outputs": [],
   "source": [
    "!grep bwa snps.log"
   ]
  },
  {
   "cell_type": "markdown",
   "metadata": {},
   "source": [
    "Obtendrá este resultado:"
   ]
  },
  {
   "cell_type": "markdown",
   "metadata": {},
   "source": [
    "El comando `bwa mem -Y -M -R '@RG\\tID:GPSC46_folder\\tSM:GPSC46_folder' -t 2 reference/ref.fa /data/17150_4#79_1.fastq.gz /data/17150_4#79_2.fastq.gz | samclip --max 10 --ref reference/ref.fa. fai | samtools sort -n -l 0 -T /tmp --threads 0 -m 1000M | samtools fixmate -m --threads 0 - - | samtools sort -l 0 -T /tmp --threads 0 -m 1000M | samtools markdup -T /tmp --threads 0 -r -s - - > snps.bam` es una combinación de varios comandos combinados mediante pipes `|`. \n",
    "\n",
    "La descripción de este comando es la siguiente\n",
    "\n",
    "`bwa mem -Y -M -R '@RG\\tID:GPSC46_folder\\tSM:GPSC46_folder' -t 2 reference/ref.fa /data/17150_4#79_1.fastq.gz /data/17150_4#79_2.fastq.gz`: Este comando utiliza bwa para mapear las lecturas de secuencia al genoma de referencia utilizando bwa mem.\n",
    "\n",
    "`samclip --max 10 --ref referencia/ref.fa.fai`: Este comando utiliza samtools para recortar/eliminar las lecturas no alineadas.\n",
    "\n",
    "`samtools sort -n -l 0 -T /tmp --threads 0 -m 1000M`: Este comando le dice a samtools que rellene las coordenadas de la pareja e inserte los campos de tamaño.\n",
    "\n",
    "`samtools fixmate -m --threads 0 - -`: Este comando indica a samtools que rellene las coordenadas de la pareja e inserte los campos de tamaño.\n",
    "\n",
    "`samtools sort -l 0 -T /tmp --threads 0 -m 1000M`: Este comando le dice a samtools que ordene basándose en el número de cromosoma y las coordenadas\n",
    "\n",
    "`samtools markdup -T /tmp --threads 0 -r -s - - `: Este comando utiliza samtools para eliminar todos los duplicados y también imprimir algunas estadísticas básicas sobre el archivo de resultados.\n",
    "\n",
    "`>snps.bam`: snps.bam es el archivo de salida"
   ]
  },
  {
   "cell_type": "markdown",
   "metadata": {},
   "source": [
    "Para ver el procesamiento de samtools, escriba el comando:"
   ]
  },
  {
   "cell_type": "code",
   "execution_count": null,
   "metadata": {},
   "outputs": [],
   "source": [
    "!grep samtools snps.log"
   ]
  },
  {
   "cell_type": "markdown",
   "metadata": {},
   "source": [
    "Obtendrá este resultado:"
   ]
  },
  {
   "cell_type": "markdown",
   "metadata": {},
   "source": [
    "Este comando utiliza freebayes para identificar posibles variantes con coordenadas en formato de archivo de llamada de variantes (VCF )\n",
    "\n",
    "Para ver el procesamiento de bcftools escriba el comando:"
   ]
  },
  {
   "cell_type": "code",
   "execution_count": null,
   "metadata": {},
   "outputs": [],
   "source": [
    "!grep bcftools snps.log"
   ]
  },
  {
   "cell_type": "markdown",
   "metadata": {},
   "source": [
    "Obtendrá este resultado:"
   ]
  },
  {
   "cell_type": "markdown",
   "metadata": {},
   "source": [
    "El comando `bcftools view --include 'FMT/GT=\"1/1\" && QUAL>=100 && FMT/DP>=10 && (FMT/AO)/(FMT/DP)>=0' snps.raw.vcf | vt normalize-r reference/ref. fa - | bcftools annotate --remove '^INFO/TYPE,^INFO/DP,^INFO/RO,^INFO/AO,^INFO/AB,^FORMAT/GT,^FORMAT/DP,^FORMAT/RO,^FORMAT/AO,^FORMAT/QR,^FORMAT/QA,^FORMAT/GL' > snps.filt.vcf ` utiliza bcftools para filtrar las variantes identificadas anteriormente utilizando umbrales fijos.\n",
    "\n",
    "El comando `bcftools consensus --sample GPSC46_folder -f reference/ref.fa -o snps.consensus.fa snps.vcf.gz` utiliza bcftools para crear un pseudogenoma sustituyendo las bases del genoma de referencia por las sustituciones filtradas (SNPs) identificadas anteriormente."
   ]
  },
  {
   "cell_type": "markdown",
   "metadata": {},
   "source": [
    "## Parte 2: Visualizando el resultado\n",
    "\n",
    "El formato de salida estándar para almacenar la información del llamado de variantes el el VCF. [Aquí](https://samtools.github.io/hts-specs/VCFv4.2.pdf) puede encontrar más información para su interpretación.\n",
    "\n",
    "Para visualizar el VCF ejecute el comando:"
   ]
  },
  {
   "cell_type": "code",
   "execution_count": null,
   "metadata": {},
   "outputs": [],
   "source": [
    "!head -n30 snps.vcf"
   ]
  },
  {
   "cell_type": "markdown",
   "metadata": {},
   "source": [
    "Obtendrá el siguiente resultado:"
   ]
  },
  {
   "cell_type": "markdown",
   "metadata": {},
   "source": [
    "Este comando imprime las 30 primeras líneas del archivo snps.vcf.\n",
    "\n",
    "Las primeras 27 líneas son \"cabeceras\" y contienen información sobre lo que se ha hecho para llamar a las variantes, y le ayuda a interpretar lo que significan las diferentes columnas. Todas estas líneas comienzan con \"#\".\n",
    "Las 3 últimas líneas son variantes individuales identificadas, una por línea. Las columnas de variantes están etiquetadas como #CHROM POS ID REF ALT QUAL FILTER INFO FORMAT GPSC46_folder."
   ]
  },
  {
   "cell_type": "markdown",
   "metadata": {},
   "source": [
    "Podemos ver un resumen algo más sencillo de estas variantes en el archivo snps.tab"
   ]
  },
  {
   "cell_type": "code",
   "execution_count": null,
   "metadata": {},
   "outputs": [],
   "source": [
    "!head -n5 snps.tab"
   ]
  },
  {
   "cell_type": "markdown",
   "metadata": {},
   "source": [
    "Obtendrá el siguiente resultado:"
   ]
  },
  {
   "cell_type": "markdown",
   "metadata": {},
   "source": [
    "Este comando imprime las 5 primeras líneas del archivo snps.vcf. En este archivo, no hemos proporcionado información del gen, por lo que sólo son relevantes las 6 primeras columnas."
   ]
  },
  {
   "cell_type": "markdown",
   "metadata": {},
   "source": [
    "## Parte 3: Pseudogenomas\n",
    "\n",
    "Snippy también ha creado un archivo fasta con nuestro pseudogenoma de secuencias que se realiza sustituyendo las bases de referencia por los snps identificados."
   ]
  },
  {
   "cell_type": "code",
   "execution_count": null,
   "metadata": {},
   "outputs": [],
   "source": [
    "!head snps.consensus.subs.fa"
   ]
  },
  {
   "cell_type": "markdown",
   "metadata": {},
   "source": [
    "Obtendrá la siguiente salida:\n",
    "\n",
    "Este comando imprime las primeras líneas del archivo snps.consensus.subs.fa."
   ]
  },
  {
   "cell_type": "markdown",
   "metadata": {},
   "source": [
    "## Parte 4: Manejo de múltiples genomas - creación de alineamiento de secuencias múltiples\n",
    "\n",
    "Para ejecutar un conjunto de secuencias aisladas (reads o contigs) contra la misma referencia, puede utilizar el script snippy-multi.\n",
    "\n",
    "Navegue hasta la carpeta multiple_files y explore su contenido. Para ejecutar el script snippy-multi, necesitará:\n",
    "\n",
    "- Lecturas pareadas (lecturas de extremo único o contigs ensamblados)\n",
    "- Archivo de entrada separado por tabuladores (que contiene una lista de las reads forward y reverse en el siguiente formato: ID, nombres de las lecturas R1 y nombres de las lecturas R2)\n",
    "- Secuencia de referencia\n",
    "\n",
    "Explore el archivo de entrada separado por tabulaciones; debe tener el siguiente formato:\n",
    "\n"
   ]
  },
  {
   "cell_type": "markdown",
   "metadata": {},
   "source": [
    "Ahora vamos a utilizar snippy-multi para generar un archivo de alineación de secuencias múltiples.\n",
    "\n",
    "Primero ejecute este comando para generar un script de salida:"
   ]
  },
  {
   "cell_type": "code",
   "execution_count": null,
   "metadata": {},
   "outputs": [],
   "source": [
    "!snippy-multi list.txt --ref Reference_sequence_GPSC46.fa --cpus 2 > runme.sh"
   ]
  },
  {
   "cell_type": "markdown",
   "metadata": {},
   "source": [
    "La explicación de este comando es la siguiente:\n",
    "\n",
    "`snippy-multi`: es la herramienta\n",
    "\n",
    "`list.txt`: Archivo de entrada separado por tabuladores (que contiene una lista de las lecturas directa e inversa en el siguiente formato: ID, nombres de las lecturas R1 y nombres de las lecturas R2)\n",
    "\n",
    "`--ref`: especifica el genoma de referencia que es Reference_sequence_GPSC46.fa\n",
    "\n",
    "`--cpus`: especifica el número máximo de núcleos de CPU a utilizar = 2\n",
    "\n",
    "`>runme.sh`: es el script de salida\n",
    "\n",
    "Obtendrá la siguiente salida:\n"
   ]
  },
  {
   "cell_type": "markdown",
   "metadata": {},
   "source": [
    "Puedes comprobar que el script tiene sentido ejecutando el comando:"
   ]
  },
  {
   "cell_type": "code",
   "execution_count": null,
   "metadata": {},
   "outputs": [],
   "source": [
    "!less runme.sh"
   ]
  },
  {
   "cell_type": "markdown",
   "metadata": {},
   "source": [
    "Obtendrá este resultado si el script es correcto:"
   ]
  },
  {
   "cell_type": "markdown",
   "metadata": {},
   "source": [
    "Ahora, genere la alineación ejecutando el comando:"
   ]
  },
  {
   "cell_type": "code",
   "execution_count": null,
   "metadata": {},
   "outputs": [],
   "source": [
    "!sh ./runme.sh"
   ]
  },
  {
   "cell_type": "markdown",
   "metadata": {},
   "source": [
    "La explicación de este comando es la siguiente:\n",
    "\n",
    "`sh`: es el nombre del comando del shell Bourne, el intérprete del lenguaje de comandos estándar de Unix y de muchos sistemas operativos similares a Unix, incluido Linux\n",
    "\n",
    "`/.runme.sh`: el script de salida en el directorio actual `/.`\n",
    "\n",
    ">Nota: la herramienta snippy-multi también ejecutará snippy-core para generar los archivos de alineación SNP del núcleo del genoma core.*\n",
    "\n",
    "Snippy ha creado ahora un número de archivos, incluyendo un 'core SNP alignment'.\n",
    "\n",
    "Ejecute este comando para comprobar el resultado:"
   ]
  },
  {
   "cell_type": "code",
   "execution_count": null,
   "metadata": {},
   "outputs": [],
   "source": [
    "!ls -l core.*"
   ]
  },
  {
   "cell_type": "markdown",
   "metadata": {},
   "source": [
    "La explicación de estos comandos es la siguiente:\n",
    "\n",
    "`ls -l` es el comando para listar todos los elementos con core como prefijo (core.*)\n",
    "\n",
    "Obtendrá la siguiente salida:"
   ]
  },
  {
   "cell_type": "markdown",
   "metadata": {},
   "source": [
    "Visualización de resultados\n",
    "\n",
    "Tenemos varios archivos que resumen nuestras variantes, por ejemplo\n",
    "\n",
    "Ejecute este comando para comprobar el contenido de algunos de estos archivos:"
   ]
  },
  {
   "cell_type": "code",
   "execution_count": null,
   "metadata": {},
   "outputs": [],
   "source": [
    "!head core.tab"
   ]
  },
  {
   "cell_type": "markdown",
   "metadata": {},
   "source": [
    "Obtendrá la siguiente salida:"
   ]
  },
  {
   "cell_type": "markdown",
   "metadata": {},
   "source": [
    "Y nuestro alineamiento múltiple de secuencias que contiene todos los genomas está en el archivo (core.tull.aln). Ver este archivo:"
   ]
  },
  {
   "cell_type": "code",
   "execution_count": null,
   "metadata": {},
   "outputs": [],
   "source": [
    "!head core.full.aln"
   ]
  },
  {
   "cell_type": "markdown",
   "metadata": {},
   "source": [
    "Obtendrá la siguiente salida:"
   ]
  },
  {
   "cell_type": "markdown",
   "metadata": {},
   "source": [
    "Este archivo \"core.full.aln\" enmascara secuencias con baja confianza de diferentes maneras, pero para algunas aplicaciones queremos todo enmascarado de la misma manera. Cambiemos eso para que cualquier cosa incierta sea marcada como 'N' usando el script snipp-clean_full_aln que viene con snippy."
   ]
  },
  {
   "cell_type": "code",
   "execution_count": null,
   "metadata": {},
   "outputs": [],
   "source": [
    "!snippy-clean_full_aln core.full.aln > clean.full.aln"
   ]
  },
  {
   "cell_type": "markdown",
   "metadata": {},
   "source": [
    "Ver el archivo: "
   ]
  },
  {
   "cell_type": "code",
   "execution_count": null,
   "metadata": {},
   "outputs": [],
   "source": [
    "!head clean.full.aln"
   ]
  },
  {
   "cell_type": "markdown",
   "metadata": {},
   "source": [
    "Obtendrá la siguiente salida:"
   ]
  }
 ],
 "metadata": {
  "language_info": {
   "name": "python"
  }
 },
 "nbformat": 4,
 "nbformat_minor": 2
}

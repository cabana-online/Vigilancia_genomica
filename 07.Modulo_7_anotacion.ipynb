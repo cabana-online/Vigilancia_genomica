{
 "cells": [
  {
   "cell_type": "markdown",
   "metadata": {},
   "source": [
    "# Módulo 7: Anotación de genomas\n",
    "\n",
    "## Descripción general\n",
    "\n",
    "La anotación del genoma es el proceso de identificar y etiquetar todas las características relevantes en una secuencia del genoma. Como mínimo, esto debería incluir las coordenadas de las regiones codificantes predichas y sus productos putativos, pero es deseable ir más allá de esto a los ARN no codificantes, péptidos señal, etc.\n",
    "\n",
    "*Lectura adicional*: https://academic.oup.com/bioinformatics/article/30/14/2068/2390517"
   ]
  },
  {
   "cell_type": "markdown",
   "metadata": {},
   "source": [
    "### Instalar condacolab"
   ]
  },
  {
   "cell_type": "code",
   "execution_count": null,
   "metadata": {},
   "outputs": [],
   "source": [
    "!pip install -q condacolab\n",
    "import condacolab\n",
    "condacolab.install()"
   ]
  },
  {
   "cell_type": "markdown",
   "metadata": {},
   "source": [
    "### Instalar programas"
   ]
  },
  {
   "cell_type": "code",
   "execution_count": null,
   "metadata": {},
   "outputs": [],
   "source": [
    "# Instalar Prokka\n",
    "!conda install -c conda-forge -c bioconda -c defaults prokka"
   ]
  },
  {
   "cell_type": "code",
   "execution_count": null,
   "metadata": {},
   "outputs": [],
   "source": [
    "# Compruebe si se Prokka se instaló correctamente\n",
    "!prokka --version"
   ]
  },
  {
   "cell_type": "markdown",
   "metadata": {},
   "source": [
    "[IGV (Integrative Genomics Viewer)](https://igv.org/doc/desktop/#), es un software desarrollada para la exploración visual de datos genómicos. Este programa tiene una versión de escritorio y otra virtual. En este tutorial utilizaremos la versión de escritorio, disponible para cualquier sistema operativo, y puede ser descargada [aquí](https://igv.org/doc/desktop/#DownloadPage/). \n",
    "\n",
    "Para más información del software, [aquí](https://igv.org/doc/desktop/#TutorialVideos/) podrá encontrar videos tutoriales que le serán de ayuda. "
   ]
  },
  {
   "cell_type": "markdown",
   "metadata": {},
   "source": [
    "### Descargar datos"
   ]
  },
  {
   "cell_type": "code",
   "execution_count": null,
   "metadata": {},
   "outputs": [],
   "source": [
    "!wget https://zenodo.org/records/13750987/files/Module_7.tar.gz"
   ]
  },
  {
   "cell_type": "markdown",
   "metadata": {},
   "source": [
    "### Extraer el archivo .tar.gz"
   ]
  },
  {
   "cell_type": "code",
   "execution_count": null,
   "metadata": {},
   "outputs": [],
   "source": [
    "!tar xvf Module_7.tar.gz"
   ]
  },
  {
   "cell_type": "markdown",
   "metadata": {},
   "source": [
    "## Anotación\n",
    "\n",
    "Usaremos una herramienta de software llamada [Prokka](https://github.com/tseemann/prokka) para anotar el borrador de la secuencia del genoma producido después de ejecutar SPAdes. Prokka es un \"wrapper\"; reúne varias piezas de software (de varios autores), y así evita \"reinventar la rueda\".\n",
    "\n",
    "[Prokka](https://github.com/tseemann/prokka) encuentra y anota características (tanto regiones codificantes de proteínas como genes de ARN, es decir, ARNt, ARNr) presentes en una secuencia. Tenga en cuenta que Prokka utiliza un proceso de dos pasos para la anotación de regiones codificantes de proteínas: primero, las regiones codificantes de proteínas en el genoma se identifican utilizando Prodigal; en segundo lugar, la función de la proteína codificada se predice por la similitud con las proteínas en una de las muchas bases de datos de proteínas o dominios de proteínas. Prokka es una herramienta de software que se puede utilizar para anotar genomas bacterianos, de arqueas y virales rápidamente, generando archivos de salida estándar en formatos GenBank, EMBL y gff.\n",
    "\n",
    "Ejecute el comando en la terminal para ejecutar Prokka:"
   ]
  },
  {
   "cell_type": "code",
   "execution_count": null,
   "metadata": {},
   "outputs": [],
   "source": [
    "%cd Module_7/spades_assembly/"
   ]
  },
  {
   "cell_type": "code",
   "execution_count": null,
   "metadata": {},
   "outputs": [],
   "source": [
    "# Correr Prokka\n",
    "!prokka contigs.fasta"
   ]
  },
  {
   "cell_type": "markdown",
   "metadata": {},
   "source": [
    "Una explicación de este comando es la siguiente:\n",
    "\n",
    "`prokka`: es la herramienta\n",
    "\n",
    "`contigs.fa`: archivo de entrada (este archivo es la salida de SPAdes)"
   ]
  },
  {
   "cell_type": "markdown",
   "metadata": {},
   "source": [
    "Una vez que Prokka haya terminado, aparecerá una nueva carpeta que contiene la salida de Prokka en su directorio de trabajo. Examine cada uno de sus archivos de salida.\n",
    "\n",
    "- Los archivos GFF y GBK contienen toda la información sobre las características anotadas (en diferentes formatos).\n",
    "- El archivo .txt contiene un resumen de la cantidad de entidades anotadas.\n",
    "- El archivo .faa contiene las secuencias de proteínas de los genes anotados.\n",
    "- El archivo .ffn contiene las secuencias de nucleótidos de los genes anotados.\n"
   ]
  },
  {
   "cell_type": "markdown",
   "metadata": {},
   "source": [
    "## Ver la anotación del genoma en IGV\n",
    "\n",
    "Necesitará los siguientes archivos para ver la anotación del genoma en IGV:\n",
    "\n",
    "1. Genoma de referencia que será la salida fna de Prokka. Esta secuencia será la referencia contra la cual se mostrarán las anotaciones.\n",
    "2. Archivo gff que es una salida de Prokka\n",
    "\n",
    "Para descargar los archivos necesarios en su ordenador, dirijase a la parte izquierda de Colab, ubique el archivo, click derecho y click a \"Descargar\". \n",
    "\n",
    "Aquí encuentra un ejemplo:\n",
    "\n",
    "![igv](images/igv.png)\n",
    "\n",
    "Inicie IGV Desktop.\n",
    "\n",
    "Cargue la secuencia de referencia: en la barra de herramientas, haga clic en Genoma > Cargar genoma desde archivo > Buscar y seleccione PROKKA_08082024.fna (como ejemplo)\n",
    "\n",
    "Cargue el archivo gff: Vaya a Archivo > Cargar desde archivo > PROKKA_08082024.gff (como ejemplo)"
   ]
  },
  {
   "cell_type": "markdown",
   "metadata": {},
   "source": [
    "*Adaptado de:*\n",
    "\n",
    "- Advanced Bioinformatics Course developed for the GPS and JUNO projects - Wellcome Sanger Insitute\n",
    "    \n",
    "*Modificado por Luisa Sacristán (Universidad de los Andes-CABANA)*"
   ]
  }
 ],
 "metadata": {
  "language_info": {
   "name": "python"
  }
 },
 "nbformat": 4,
 "nbformat_minor": 2
}

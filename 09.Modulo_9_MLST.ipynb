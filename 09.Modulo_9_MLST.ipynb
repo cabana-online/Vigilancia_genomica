{
 "cells": [
  {
   "cell_type": "markdown",
   "metadata": {},
   "source": [
    "# Módulo 9: MLST (Tipificación de secuencias multilocus)\n",
    "\n",
    "## Descripción general\n",
    "\n",
    "La tipificación de secuencias multilocus (MLST) caracteriza los aislamientos de especies bacterianas utilizando las secuencias de fragmentos internos de (generalmente) siete genes house-keeping. Se utilizan fragmentos internos de aproximadamente 450-500 pb de cada gen, ya que estos se pueden secuenciar con precisión en ambas cadenas utilizando un secuenciador de ADN automatizado. Para cada gen house-keeping, las diferentes secuencias presentes dentro de una especie bacteriana se asignan como alelos distintos y, para cada aislamiento, los alelos en cada uno de los siete loci definen el perfil alélicos o tipo de secuencia (ST). Por lo tanto, cada aislamiento de una especie se caracteriza inequívocamente por una serie de siete números enteros que corresponden a los alelos en los siete loci de mantenimiento.\n",
    "\n",
    "MLST se puede realizar utilizando SRST2 o MLST. Aprenderemos ambas herramientas en este módulo."
   ]
  },
  {
   "cell_type": "markdown",
   "metadata": {},
   "source": [
    "### Instalar condacolab"
   ]
  },
  {
   "cell_type": "code",
   "execution_count": null,
   "metadata": {},
   "outputs": [],
   "source": [
    "!pip install -q condacolab\n",
    "import condacolab\n",
    "condacolab.install()"
   ]
  },
  {
   "cell_type": "markdown",
   "metadata": {},
   "source": [
    "### Instalar programas"
   ]
  },
  {
   "cell_type": "markdown",
   "metadata": {},
   "source": [
    ">**Nota**: En este módulo utilizaremos srst2 para la predicción de serotipos de *S. agalactiae*. Sin embargo, esta herramienta no funciona adecuadamente en Paython3. Por lo tanto, instalaremos Python2 y ejecutaremos la herramienta utilizando la versión python=2.7 con los comandos `!conda run -n py2_env`"
   ]
  },
  {
   "cell_type": "code",
   "execution_count": null,
   "metadata": {},
   "outputs": [],
   "source": [
    "# Crear un ambiente en conda con la version 2.7 de python. El ambiente se llamará pyhton2 \n",
    "!conda create -n py2_env python=2.7\n",
    "#!apt-get install python2\n",
    "!conda run -n py2_env python --version"
   ]
  },
  {
   "cell_type": "code",
   "execution_count": null,
   "metadata": {},
   "outputs": [],
   "source": [
    "#Instalar srst2\n",
    "!conda run -n py2_env conda install -c bioconda srst2 --yes"
   ]
  },
  {
   "cell_type": "code",
   "execution_count": null,
   "metadata": {},
   "outputs": [],
   "source": [
    "# Compruebe si se srst2 se instaló correctamente\n",
    "!conda run -n py2_env srst2 --help"
   ]
  },
  {
   "cell_type": "code",
   "execution_count": null,
   "metadata": {},
   "outputs": [],
   "source": [
    "# Instalar mlst\n",
    "!conda install -c conda-forge -c bioconda -c defaults mlst"
   ]
  },
  {
   "cell_type": "code",
   "execution_count": null,
   "metadata": {},
   "outputs": [],
   "source": [
    "# Instalar any2fasta\n",
    "!conda install -c bioconda any2fasta"
   ]
  },
  {
   "cell_type": "code",
   "execution_count": null,
   "metadata": {},
   "outputs": [],
   "source": [
    "# Instalar blast\n",
    "!conda install bioconda::blast"
   ]
  },
  {
   "cell_type": "markdown",
   "metadata": {},
   "source": [
    "### Descargar datos"
   ]
  },
  {
   "cell_type": "code",
   "execution_count": null,
   "metadata": {},
   "outputs": [],
   "source": [
    "!wget "
   ]
  },
  {
   "cell_type": "markdown",
   "metadata": {},
   "source": [
    "## Parte 1: Tipificación de secuencias multilocus usando SRST2\n",
    "\n",
    "El programa [SRST2](https://github.com/katholt/srst2 ) (Short Read Sequence Typing for Bacterial Pathogens) está diseñado para tomar datos de secuencias de Illumina, una base de datos MLST y/o una base de datos de secuencias de genes (por ejemplo, genes de resistencia, genes de virulencia, etc.) e informar la presencia de ST y/o genes de referencia. Este programa realiza una detección rápida y precisa de genes y alelos a partir de lecturas de secuenciación corta WGS. SRST2 puede tipicar lecturas utilizando cualquier base de datos de secuencias y puede calcular tipos de secuencias combinatorias definidas en bases de datos tipo MLST.\n",
    "\n",
    "*Lectura adicional*: https://genomemedicine.biomedcentral.com/articles/10.1186/s13073-014-0090-6\n",
    "\n",
    "SRST2 requiere:\n",
    "\n",
    "1. lecturas (usa lecturas pareadas: 17150_4#79_1.fastq.gz y 17150_4#79_2.fastq.gz)\n",
    "2. Una base de datos de secuencias en un archivo fasta. Para MLST, esto significa un archivo fasta de todas las secuencias de alelos. Si desea asignar ST, también necesita un archivo tabulador que defina los perfiles de ST como una combinación de alelos. Puede recuperar estos archivos automáticamente desde pubmlst.org/data/ usando el script provisto a continuación:"
   ]
  },
  {
   "cell_type": "markdown",
   "metadata": {},
   "source": [
    "### Paso 1: Descargue la base de datos de secuencias fasta y un archivo tab-delim de [PubMLST](https://pubmlst.org/organisms/streptococcus-agalactiae/) usando el comando:"
   ]
  },
  {
   "cell_type": "code",
   "execution_count": null,
   "metadata": {},
   "outputs": [],
   "source": [
    "# Descargar la base de datos\n",
    "!conda run -n py2_env getmlst.py --species 'Streptococcus pneumoniae'"
   ]
  },
  {
   "cell_type": "markdown",
   "metadata": {},
   "source": [
    "Explore el contenido de su directorio de trabajo usando `ls`. Deberá tener los siguientes archivos:\n",
    "\n",
    "- alelos_fasta,\n",
    "- mlst_data_download_Streptococcus_pneumoniae_None.log,\n",
    "- perfiles_csv\n",
    "- Streptococcus_pneumoniae.fasta"
   ]
  },
  {
   "cell_type": "markdown",
   "metadata": {},
   "source": [
    "Navegaremos a la carpeta que contiene los archivos pareados FASTQ ERR1795461_1.fastq.gz y ERR1795461_2.fastq.gz los cuales corresponden al run accession ERR1795461 del proyecto [PRJEB3084](https://www.ebi.ac.uk/ena/browser/view/PRJEB3084)\t\n",
    "\n",
    "Algunos datos importantes de la muestra:\n",
    "\n",
    "- País de origen: Brasil\n",
    "- Organismo: *Streptococcus pneumoniae*\n",
    "- Instrumento: ILLUMINA\n",
    "- Modelo del instrumento: Illumina MiSeq \n",
    "- Conteo de reads: 3627822\n",
    "- Conteo de bases: 453477750 \n",
    "- Nombre del centro: Wellcome Sanger Institute;SC \n",
    "- Diseño de librerías:  PAIRED\n",
    "- Estrategia de librerías: WGS"
   ]
  },
  {
   "cell_type": "markdown",
   "metadata": {},
   "source": [
    "### Paso 2: Para ejecutar SRST2 en una sola cepa usaremos el comando:"
   ]
  },
  {
   "cell_type": "code",
   "execution_count": null,
   "metadata": {},
   "outputs": [],
   "source": [
    "# Ejecutar srst2\n",
    "!conda run -n py2_env srst2 --input_pe ERR1795461_1.fastq.gz ERR1795461_2.fastq.gz --output ERR1795461 --log --mlst_db Streptococcus_pneumoniae.fasta --mlst_definitions profiles_csv --mlst_delimiter _"
   ]
  },
  {
   "cell_type": "markdown",
   "metadata": {},
   "source": [
    ">Nota: Este proceso puede tomar mucho tiempo, por lo tanto, en la carpeta /content/Module_9/srst2/results/ podrá encontrar los resultados para analizar en los siguientes pasos.  "
   ]
  },
  {
   "cell_type": "markdown",
   "metadata": {},
   "source": [
    "Una explicación de este comando es la siguiente:\n",
    "\n",
    "`srst2` es la herramienta\n",
    "\n",
    "`--input_pe` especifica que el archivo de entrada son lecturas finales emparejadas que son 17150_4#79_1.fastq.gz 17150_4#79_2.fastq.gz\n",
    "\n",
    "`--output` especifica el archivo de salida 17150_4#79_test\n",
    "\n",
    "`--mlst_db` especifica la base de datos Streptococcus_pneumoniae.fasta\n",
    "\n",
    "`--mlst_definitions` especifica profiles_csv\n",
    "\n",
    "`--mlst_delimiter` Caracteres que separan el nombre del gen del número de alelo en la base de datos MLST (predeterminado \"-\", como en arcc-1)"
   ]
  },
  {
   "cell_type": "markdown",
   "metadata": {},
   "source": [
    "Dirijase a la carpeta `results`"
   ]
  },
  {
   "cell_type": "code",
   "execution_count": null,
   "metadata": {},
   "outputs": [],
   "source": [
    "%cd /content/Module_9/srst2/results/"
   ]
  },
  {
   "cell_type": "markdown",
   "metadata": {},
   "source": [
    "Ejecute el comando `ls -lh` para verificar el contenido de la carpeta."
   ]
  },
  {
   "cell_type": "code",
   "execution_count": null,
   "metadata": {},
   "outputs": [],
   "source": [
    "# Ver los resultados\n",
    "!ls -lh"
   ]
  },
  {
   "cell_type": "markdown",
   "metadata": {},
   "source": [
    "El archivo de salida de la ejecución de srst2 es `ERR1795461__mlst__Streptococcus_pneumoniae__results.txt`.\n",
    "\n",
    "Entonces ejecute `cat` \"ERR1795461__mlst__Streptococcus_pneumoniae__results.txt\" para ver el contenido de este archivo."
   ]
  },
  {
   "cell_type": "markdown",
   "metadata": {},
   "source": [
    "La muestra ERR1795461 es MLST *****"
   ]
  },
  {
   "cell_type": "markdown",
   "metadata": {},
   "source": [
    "### Para ejecutar SRST2 en múltiples cepas, ejecute el comando:"
   ]
  },
  {
   "cell_type": "markdown",
   "metadata": {},
   "source": [
    "`--input_pe *.fastq.gz`: especifica que el archivo de entrada son varios archivos fastq.gz comprimidos."
   ]
  },
  {
   "cell_type": "code",
   "execution_count": null,
   "metadata": {},
   "outputs": [],
   "source": [
    "# No ejecutar\n",
    "# Ejecutar srst2 para multiples los archivos\n",
    "# srst2 --input_pe *.fastq.gz --output s.pneumo --log --mlst_db Streptococcus_pneumoniae.fasta --mlst_definitions profiles_csv --mlst_delimiter _"
   ]
  },
  {
   "cell_type": "markdown",
   "metadata": {},
   "source": [
    "___"
   ]
  },
  {
   "cell_type": "markdown",
   "metadata": {},
   "source": [
    "## Parte 2: Tipificación de secuencias multilocus usando mlst\n",
    "\n",
    "[mlst](https://github.com/tseemann/mlst) escanea archivos contig contra los esquemas de escritura tradicionales de PubMLST"
   ]
  },
  {
   "cell_type": "markdown",
   "metadata": {},
   "source": [
    "### Paso 1: para predecir el serotipo de una sola cepa (20280_5#33), usaremos el comando:"
   ]
  },
  {
   "cell_type": "code",
   "execution_count": null,
   "metadata": {},
   "outputs": [],
   "source": [
    "# Correr mlst\n",
    "!mlst --legacy --scheme spneumoniae 21127_1#30_output_contigs.fasta"
   ]
  },
  {
   "cell_type": "markdown",
   "metadata": {},
   "source": [
    "Una explicación de este comando es la siguiente:\n",
    "\n",
    "`mlst` es la herramienta\n",
    "\n",
    "`--legacy` use la salida heredada anterior con la fila de encabezado de alelo (requiere --scheme)\n",
    "\n",
    "`--scheme spneumoniae` especifica la especie (esquema pubmlst). Puede identificar el esquema usando el comando \"docker_run staphb/mlst mlst --longlist\"\n",
    "\n",
    "`21127_1#30_output_contigs.fasta` archivo de entrada"
   ]
  },
  {
   "cell_type": "markdown",
   "metadata": {},
   "source": [
    "Obtendrá esta salida impresa en la terminal"
   ]
  },
  {
   "cell_type": "markdown",
   "metadata": {},
   "source": [
    "### Paso 2: Para ejecutar mlst en múltiples cepas, usaremos el comando:"
   ]
  },
  {
   "cell_type": "code",
   "execution_count": null,
   "metadata": {},
   "outputs": [],
   "source": [
    "# Correr mlst para todos los archivos\n",
    "mlst --legacy --scheme spneumoniae *.fasta > mlst.csv\n"
   ]
  },
  {
   "cell_type": "markdown",
   "metadata": {},
   "source": [
    "Una explicación de este comando es la siguiente:\n",
    "\n",
    "`mlst` es la herramienta\n",
    "\n",
    "`--legacy` use la salida heredada anterior con la fila de encabezado de alelo (requiere --scheme)\n",
    "\n",
    "`--scheme spneumoniae `especifica la especie (esquema pubmlst). Puede identificar el esquema usando el comando \"docker_run staphb/mlst mlst --longlist\"\n",
    "\n",
    "`*.fasta` archivos de entrada\n",
    "\n",
    "`>mlst.csv` especifica el archivo de salida"
   ]
  },
  {
   "cell_type": "markdown",
   "metadata": {},
   "source": [
    "## BONO!\n",
    "\n",
    "Si está trabajando con BASH en su computadora o en un HPC y tiene demasiados archivos, puede optimizar los comandos, los bucles (for loops) son muy útiles para grandes conjuntos de datos.\n",
    "\n",
    "Aquí hay una manera de hacerlo.\n",
    "\n",
    "Cree un nuevo script bash usando nano llamado `srst2.sh`"
   ]
  },
  {
   "cell_type": "code",
   "execution_count": null,
   "metadata": {},
   "outputs": [],
   "source": [
    "#!/bin/bash\n",
    "#Este script para hacer MLTS usando la herramienta srst2 desde fastq.gz recortados\n",
    "\n",
    "for i in $(ls *_1.trimmed.fastq.gz); do\n",
    "NAME=$(basename $i _1.trimmed.fastq.gz)\n",
    "echo \"$NAME\"\n",
    "j=\"${NAME}_1.trimmed.fastq.gz\"\n",
    "echo \"$j\"\n",
    "k=\"${NAME}_2.trimmed.fastq.gz\"\n",
    "echo \"$k\"\n",
    "srst2 --input_pe $j $k --output srst2output --log --mlst_db Streptococcus_pneumoniae.fasta --mlst_defin>\n",
    "done"
   ]
  },
  {
   "cell_type": "markdown",
   "metadata": {},
   "source": [
    "Cree un nuevo script bash usando nano llamado `mlst.sh`"
   ]
  },
  {
   "cell_type": "code",
   "execution_count": null,
   "metadata": {},
   "outputs": [],
   "source": [
    "##para ejecutar con s.pneumonae\n",
    "mlst --legacy --scheme spneumoniae *contigs.fasta > mlst_results.csv\n",
    "\n",
    "##para ejecutar con s.agalactiae\n",
    "mlst --legacy --scheme sagalactiae *contigs.fasta > mlst_results.csv"
   ]
  }
 ],
 "metadata": {
  "language_info": {
   "name": "python"
  }
 },
 "nbformat": 4,
 "nbformat_minor": 2
}

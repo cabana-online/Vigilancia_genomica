{
 "cells": [
  {
   "cell_type": "markdown",
   "metadata": {},
   "source": [
    "# Módulo 5: Clasificación taxónomica de las secuencias\n",
    "\n",
    "## Descripción general\n",
    "\n",
    "Kraken es un clasificador de secuencias taxonómicas que asigna etiquetas taxonómicas a lecturas cortas de ADN. Lo hace examinando los k-mers dentro de una lectura y consultando una base de datos con esos k-mers. Esta base de datos contiene un mapeo de cada k-mer en la librería genómica de Kraken hasta el ancestro común más bajo (LCA) en un árbol taxonómico de todos los genomas que contienen ese k-mer. El conjunto de taxones LCA que corresponden a los k-mers en una lectura luego se analizan para crear una etiqueta taxonómica única para la lectura; esta etiqueta puede ser cualquiera de los nodos del árbol taxonómico. Kraken está diseñado para ser rápido, sensible y muy preciso. Nuestras pruebas en varios datos reales y simulados han demostrado que Kraken tiene una sensibilidad ligeramente inferior a Megablast con una precisión ligeramente superior. En un conjunto de lecturas simuladas de 100 pb, Kraken procesó más de 1,3 millones de lecturas por minuto en un solo núcleo en funcionamiento normal y más de 4,1 millones de lecturas por minuto en funcionamiento rápido.\n",
    "\n",
    "![kraken](images/kraken.png)\n",
    "\n",
    "*Tomado de https://link.springer.com/article/10.1186/gb-2014-15-3-r46*\n",
    "\n",
    "Otras lecturas: https://github.com/DerrickWood/kraken2/wiki/Manual\n",
    "\n",
    "\n"
   ]
  },
  {
   "cell_type": "markdown",
   "metadata": {},
   "source": [
    "### Instalar condacolab"
   ]
  },
  {
   "cell_type": "code",
   "execution_count": null,
   "metadata": {},
   "outputs": [],
   "source": [
    "!pip install -q condacolab\n",
    "import condacolab\n",
    "condacolab.install()"
   ]
  },
  {
   "cell_type": "code",
   "execution_count": null,
   "metadata": {},
   "outputs": [],
   "source": [
    "# Instalar kraken2\n",
    "!conda install bioconda::kraken2"
   ]
  },
  {
   "cell_type": "code",
   "execution_count": null,
   "metadata": {},
   "outputs": [],
   "source": [
    "# Verificar si Kraken2 está instalado\n",
    "!kraken2 -h"
   ]
  },
  {
   "cell_type": "code",
   "execution_count": null,
   "metadata": {},
   "outputs": [],
   "source": [
    "#Descargue SRA tools usando bioconda\n",
    "!conda install -c bioconda sra-tools"
   ]
  },
  {
   "cell_type": "markdown",
   "metadata": {},
   "source": [
    "### Descargar datos"
   ]
  },
  {
   "cell_type": "code",
   "execution_count": null,
   "metadata": {},
   "outputs": [],
   "source": [
    "!wget https://zenodo.org/records/13178194/files/Module_5.tar.gz"
   ]
  },
  {
   "cell_type": "markdown",
   "metadata": {},
   "source": [
    "### Extraer el archivo .tar.gz"
   ]
  },
  {
   "cell_type": "code",
   "execution_count": null,
   "metadata": {},
   "outputs": [],
   "source": [
    "!tar xvf Module_5.tar.gz"
   ]
  },
  {
   "cell_type": "markdown",
   "metadata": {},
   "source": [
    "Navegaremos a la carpeta que contiene los archivos pareados FASTQ ERR2667698_1.fastq.gz y ERR2667698_2.fastq.gz los cuales corresponden al run accession ERR2667698 del proyecto [PRJEB3084](https://www.ebi.ac.uk/ena/browser/view/PRJEB3084)\t\n",
    "\n",
    "Algunos datos importantes de la muestra:\n",
    "\n",
    "- País de origen: Perú\n",
    "- Organismo: *Streptococcus pneumoniae*\n",
    "- Instrumento: ILLUMINA\n",
    "- Modelo del instrumento: Illumina MiSeq \n",
    "- Conteo de reads: 2445004\n",
    "- Conteo de bases: 369195604 \n",
    "- Nombre del centro: Wellcome Sanger Institute;SC \n",
    "- Diseño de librerías:  PAIRED\n",
    "- Estrategia de librerías: WGS"
   ]
  },
  {
   "cell_type": "code",
   "execution_count": null,
   "metadata": {},
   "outputs": [],
   "source": [
    "%cd Module_5"
   ]
  },
  {
   "cell_type": "markdown",
   "metadata": {},
   "source": [
    "## Clasificación\n",
    "\n",
    "Usaremos Kraken2 en esta sección. Para clasificar un conjunto de secuencias (lecturas), usaremos el comando:"
   ]
  },
  {
   "cell_type": "code",
   "execution_count": null,
   "metadata": {},
   "outputs": [],
   "source": [
    "# Correr kraken2\n",
    "!kraken2 --use-names --db Kraken/k2_standard_08gb_20221209  --paired ERR2667698_1.fastq.gz ERR2667698_2.fastq.gz --report kraken_report.txt --output -"
   ]
  },
  {
   "cell_type": "markdown",
   "metadata": {},
   "source": [
    "Una explicación de este comando es la siguiente:\n",
    "\n",
    "**kraken2**: es la herramienta\n",
    "\n",
    "**--use-names**:  imprime nombres científicos en lugar de solo taxids\n",
    "\n",
    "**--db** Kraken/k2_standard_08gb_20221209: Ruta y nombre para la base de datos de Kraken 2\n",
    "\n",
    "**--paired** ERR2667698_1.fastq.gz ERR2667698_2.fastq.gz: proporciona lecturas emparejadas\n",
    "\n",
    "**--report** kraken_report.txt: genera un informe con recuentos agregados/clado para archivar\n",
    "\n",
    "**--output -**: Suprimir salida para salida estándar\n",
    "\n",
    "Puede verificar la salida de kraken usando `!head kraken_report.txt`"
   ]
  },
  {
   "cell_type": "code",
   "execution_count": null,
   "metadata": {},
   "outputs": [],
   "source": [
    "# Consulte el informe"
   ]
  },
  {
   "cell_type": "markdown",
   "metadata": {},
   "source": [
    "Deberías obtener:\n",
    "\n",
    "- **1ra columna**: Porcentaje de fragmentos cubiertos por el clado enraizado en este taxón. \n",
    "\n",
    "- **2da columna**: Número de fragmentos cubiertos por el clado enraizado en este taxón \n",
    "\n",
    "- **3ra columna**: Número de fragmentos asignados directamente a este taxón \n",
    "\n",
    "- **4ta columna**: Un código de rango, que indica (S)no clasificado, (R)oot, (D)omain, (K)ingdom, (P)hylum, (C)lass, (O)rden, (F)amily, (G) )enus, o (S)especies. Los taxones que no están en ninguno de estos 10 rangos tienen un código de rango que se forma usando el código de rango del rango de ancestro más cercano con un número que indica la distancia desde ese rango. Por ejemplo, \"G2\" es un código de rango que indica que un taxón se encuentra entre el género y la especie y el taxón abuelo se encuentra en el rango de género. \n",
    "\n",
    "- **5ta columna**: número de identificación taxonómica del NCBI \n",
    "\n",
    "- **6ta columna**: nombre científico con sangría\n"
   ]
  },
  {
   "cell_type": "markdown",
   "metadata": {},
   "source": [
    "Para encontrar el porcentaje de fragmentos cubiertos por *Streptoccocus pneumoniae*, ejecute:"
   ]
  },
  {
   "cell_type": "code",
   "execution_count": null,
   "metadata": {},
   "outputs": [],
   "source": [
    "!grep \"Streptococcus pneumoniae\" kraken_report.txt"
   ]
  },
  {
   "cell_type": "markdown",
   "metadata": {},
   "source": [
    "Debería obtener:"
   ]
  },
  {
   "cell_type": "markdown",
   "metadata": {},
   "source": [
    "## Control de calidad de taxonomía\n",
    "\n",
    "Ahora calcularemos el porcentaje de lecturas de *Streptococcus pneumoniae* y en base a eso evaluaremos si la muestra pasa o no pasa.\n",
    "\n",
    "El límite de corte para *Streptococcus pneumoniae* es 60% ≤60% = FALLO 60% = APROBADO\n",
    "\n",
    "La muestra debe tener más del 60% de las lecturas de Streptococcus pneumoniae.\n",
    "\n",
    "Ejecutaremos un script bash personalizado para realizar la evaluación."
   ]
  },
  {
   "cell_type": "code",
   "execution_count": null,
   "metadata": {},
   "outputs": [],
   "source": [
    "!bash percentage_calculator.sh"
   ]
  },
  {
   "cell_type": "markdown",
   "metadata": {},
   "source": [
    "## BONO!\n",
    "\n",
    "Si está trabajando con BASH en su computadora o en un HPC y tiene demasiados archivos, puede optimizar los comandos, los bucles (for loops) son muy útiles para grandes conjuntos de datos.\n",
    "\n",
    "Aquí hay una manera de hacerlo.\n",
    "\n",
    "Cree un nuevo script bash usando nano llamado `taxonomy.sh`"
   ]
  },
  {
   "cell_type": "code",
   "execution_count": null,
   "metadata": {},
   "outputs": [],
   "source": [
    "# No ejecute esta celda\n",
    "# Crear un script para la taxonomía\n",
    "!nano taxonomy.sh"
   ]
  },
  {
   "cell_type": "markdown",
   "metadata": {},
   "source": [
    "Luego copie y pegue el siguiente scrip en su nuevo archivo:"
   ]
  },
  {
   "cell_type": "code",
   "execution_count": null,
   "metadata": {},
   "outputs": [],
   "source": [
    "#!/bin/bash\n",
    "#Author: Nathalia Portilla\n",
    "\n",
    "for i in $(ls *_1.trimmed.fastq.gz); do\n",
    "\n",
    "NAME=$(basename $i _1.trimmed.fastq.gz)\n",
    "echo \"$NAME\"\n",
    "j=\"${NAME}_1.trimmed.fastq.gz\"\n",
    "echo \"$j\"\n",
    "k=\"${NAME}_2.trimmed.fastq.gz\"\n",
    "echo \"$k\"\n",
    "\n",
    "kraken2 --use-names --db k2_standard_08gb_20221209 --paired $j $k --report ${NAME}.kraken.txt --output -\n",
    "done"
   ]
  },
  {
   "cell_type": "markdown",
   "metadata": {},
   "source": [
    "Guarde el archivo.\n",
    "\n",
    "Finalmente, puede ejecutarlo:"
   ]
  },
  {
   "cell_type": "code",
   "execution_count": null,
   "metadata": {},
   "outputs": [],
   "source": [
    "# No ejecute esta celda\n",
    "!bash taxonomy.sh"
   ]
  }
 ],
 "metadata": {
  "language_info": {
   "name": "python"
  }
 },
 "nbformat": 4,
 "nbformat_minor": 2
}

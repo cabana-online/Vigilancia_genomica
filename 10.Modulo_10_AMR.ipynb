{
 "cells": [
  {
   "cell_type": "markdown",
   "metadata": {},
   "source": [
    "# Módulo 10: AMR \n",
    "\n",
    "## Descripción general\n",
    "\n",
    "Uno de los beneficios de la secuenciación del genoma completo de patógenos bacterianos es que captura el inventario genómico del organismo. Esto se ha aprovechado en microbiología clínica para la predicción *in silico* de la resistencia a los antibióticos directamente a partir de los datos de secuenciación del genoma completo. Esto se está desarrollando como una alternativa a las pruebas de sensibilidad fenotípica de microorganismos en el laboratorio, donde los microorganismos se secuencian de forma rutinaria.\n",
    "\n",
    "Para muchos microorganismos, la base genética de la resistencia a los antibióticos ha sido ampliamente estudiada. Esto significa que los genes responsables de la resistencia han sido identificados y secuenciados, y pueden usarse para compilar una base de datos de determinantes de resistencia y usarse para consultar el genoma de un organismo y definir su resistoma. Basándose en la presencia o ausencia de genes o mutaciones, es posible hacer una predicción de la sensibilidad antibiótica de un organismo."
   ]
  },
  {
   "cell_type": "markdown",
   "metadata": {},
   "source": [
    "### Instalar condacolab"
   ]
  },
  {
   "cell_type": "code",
   "execution_count": null,
   "metadata": {},
   "outputs": [],
   "source": [
    "!pip install -q condacolab\n",
    "import condacolab\n",
    "condacolab.install()"
   ]
  },
  {
   "cell_type": "markdown",
   "metadata": {},
   "source": [
    "### Instalar programas"
   ]
  },
  {
   "cell_type": "code",
   "execution_count": null,
   "metadata": {},
   "outputs": [],
   "source": [
    "# Instalar ABRicate\n",
    "conda install -c conda-forge -c bioconda -c defaults abricate"
   ]
  },
  {
   "cell_type": "code",
   "execution_count": null,
   "metadata": {},
   "outputs": [],
   "source": [
    "# Instalar any2fasta\n",
    "!conda install -c bioconda any2fasta"
   ]
  },
  {
   "cell_type": "code",
   "execution_count": null,
   "metadata": {},
   "outputs": [],
   "source": [
    "# Instalar blast\n",
    "!conda install bioconda::blast"
   ]
  },
  {
   "cell_type": "markdown",
   "metadata": {},
   "source": [
    "### Descargar datos"
   ]
  },
  {
   "cell_type": "code",
   "execution_count": null,
   "metadata": {},
   "outputs": [],
   "source": [
    "!wget"
   ]
  },
  {
   "cell_type": "markdown",
   "metadata": {},
   "source": [
    "## Detección de genes AMR usando ABRicate\n",
    "\n",
    "[ABRicate](https://github.com/tseemann/abricate/tree/master) lleva a cabo un escaneo masivo de contigs para detectar genes de virulencia o resistencia a los antimicrobianos. Viene con múltiples bases de datos: NCBI, CARD, ARG-ANNOT, Resfinder, MEGARES, EcOH, PlasmidFinder, Ecoli_VF y VFDB.\n",
    "\n",
    "Para tramitar con ABRicate, debes tener en cuenta que:\n",
    "\n",
    "- Solo admite contigs, no lecturas FASTQ\n",
    "- Solo detecta genes de resistencia adquiridos, NO mutaciones puntuales\n",
    "- Utiliza una base de datos de secuencias de ADN, no proteínas.\n",
    "- Necesita BLAST+ >= 2.7 y any2fasta para ser instalado\n",
    "- Esta escrito en perl"
   ]
  },
  {
   "cell_type": "markdown",
   "metadata": {},
   "source": [
    "ABRicate toma cualquier archivo de secuencia que la herramienta any2fasta pueda convertir a archivos FASTA (por ejemplo, Genbank, EMBL), y opcionalmente pueden comprimirse con gzip o bzip2. ABRicate viene con algunas bases de datos descargadas previamente que se pueden ver con el comando:"
   ]
  },
  {
   "cell_type": "code",
   "execution_count": null,
   "metadata": {},
   "outputs": [],
   "source": [
    "# Ver lista de bases de datos disponibles\n",
    "!abricate --list"
   ]
  },
  {
   "cell_type": "markdown",
   "metadata": {},
   "source": [
    "Vea el resultado del comando anterior:\n",
    "\n",
    "La base de datos predeterminada es ncbi pero puede elegir una base de datos diferente usando la opción `--db`, por ejemplo:"
   ]
  },
  {
   "cell_type": "code",
   "execution_count": null,
   "metadata": {},
   "outputs": [],
   "source": [
    "# Elección de la base de datos\n",
    "!abricate --db ncbi --quiet input file"
   ]
  },
  {
   "cell_type": "markdown",
   "metadata": {},
   "source": [
    "Podemos ejecutar ABRicate en la salida de SPAdes para la cepa (17150_4#79) en la carpeta Sección_tres. Puede copiar la carpeta spades_assembly en la carpeta Sección_tres a la carpeta Sección_cuatro usando el comando (cp) que aprendió en la Sección Uno (Introducción a Linux), y el (cd) en esta carpeta.\n",
    "\n",
    "Ejecutaremos ABRicate en el archivo contigs.fasta usando el comando:"
   ]
  },
  {
   "cell_type": "markdown",
   "metadata": {},
   "source": [
    "### Paso 1: Para ejecutar ABRicate en contigs de una sola cepa (17150_4#79), usaremos el comando:"
   ]
  },
  {
   "cell_type": "code",
   "execution_count": null,
   "metadata": {},
   "outputs": [],
   "source": [
    "# Ejecución de ABRicate\n",
    "!abricate --db resfinder --quiet 17150_4#79_output_contigs.fasta > results.tab"
   ]
  },
  {
   "cell_type": "markdown",
   "metadata": {},
   "source": [
    "Una explicación de este comando es la siguiente:\n",
    "\n",
    "`abricate` es la herramienta\n",
    "\n",
    "`--db resfinder` especifica la base de datos\n",
    "\n",
    "`--quiet` sin salida de pantalla\n",
    "\n",
    "`17150_4#79_output_contigs.fasta` archivo de entrada\n",
    "\n",
    "`>results.tab` especifica el archivo de salida"
   ]
  },
  {
   "cell_type": "markdown",
   "metadata": {},
   "source": [
    "Vea el resultado del comando anterior (abra el archivo results.tab):"
   ]
  },
  {
   "cell_type": "markdown",
   "metadata": {},
   "source": [
    "Estos resultados indican que esta cepa tiene los genes Tet(M), Msr(D) y mef(A) que son marcadores de resistencia a tetraciclinas y macrólidos, respectivamente. Puede leer más [aquí](https://www.sciencedirect.com/topics/medicine-and-dentistry/penicillin-binding-protein)"
   ]
  },
  {
   "cell_type": "markdown",
   "metadata": {},
   "source": [
    "### Paso 2: Para ejecutar ABRicate en contigs de múltiples cepas, vaya a la carpeta contigs y ejecute el siguiente comando:"
   ]
  },
  {
   "cell_type": "code",
   "execution_count": null,
   "metadata": {},
   "outputs": [],
   "source": [
    "# Ejecución de ABRicate para varios archivos\n",
    "!abricate --db resfinder --quiet *contigs.fasta > results.tab"
   ]
  },
  {
   "cell_type": "markdown",
   "metadata": {},
   "source": [
    "`*contigs.fasta` indica múltiples archivos contig."
   ]
  }
 ],
 "metadata": {
  "kernelspec": {
   "display_name": "Python 3",
   "language": "python",
   "name": "python3"
  },
  "language_info": {
   "codemirror_mode": {
    "name": "ipython",
    "version": 3
   },
   "file_extension": ".py",
   "mimetype": "text/x-python",
   "name": "python",
   "nbconvert_exporter": "python",
   "pygments_lexer": "ipython3",
   "version": "3.10.12"
  }
 },
 "nbformat": 4,
 "nbformat_minor": 2
}
